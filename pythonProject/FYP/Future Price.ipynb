{
 "cells": [
  {
   "cell_type": "code",
   "execution_count": 1,
   "id": "c77cacb9",
   "metadata": {},
   "outputs": [
    {
     "data": {
      "text/plain": [
       "17965568"
      ]
     },
     "execution_count": 1,
     "metadata": {},
     "output_type": "execute_result"
    }
   ],
   "source": [
    "import pandas as pd\n",
    "\n",
    "data = pd.read_excel('Future Percentage.xlsx')\n",
    "df = pd.read_csv('PropertyData-Zameen.csv')\n",
    "\n",
    "def Future_Price(property_id):\n",
    "    data = pd.read_excel('Future Percentage.xlsx')\n",
    "    df = pd.read_csv('PropertyData-Zameen.csv')\n",
    "\n",
    "    property_info = df.loc[df['Propertyid'] == property_id, ['Property Address', 'Price']]\n",
    "    property_detail = property_info.to_dict('records')[0]\n",
    "    address = property_detail.get('Property Address')\n",
    "    current_price = property_detail.get('Price')\n",
    "\n",
    "    address_data = data[data['Address'] == address]\n",
    "    if address_data.empty:\n",
    "        address_data = data[data['Address'] == \"Other\"]\n",
    "        \n",
    "    current_month = pd.to_datetime(address_data['Date'].iloc[0], format='%Y-%m-%d').month\n",
    "    current_year = pd.to_datetime(address_data['Date'].iloc[0], format='%Y-%m-%d').year\n",
    "\n",
    "    address_data = address_data[pd.to_datetime(address_data['Date'], format='%Y-%m-%d') >= pd.to_datetime(f'{current_month}-{current_year}', format='%m-%Y')]\n",
    "    \n",
    "    final_percentage = 1.0\n",
    "    for i, row in address_data.iterrows():\n",
    "        percentage_change = 1 + (row['Percentage_Change'] / 100)\n",
    "        final_percentage *= percentage_change\n",
    "    future_price = current_price * final_percentage\n",
    "    return round(future_price)\n",
    "\n",
    "Future_Price(45065725)"
   ]
  },
  {
   "cell_type": "code",
   "execution_count": 2,
   "id": "8eeaa3d7",
   "metadata": {},
   "outputs": [
    {
     "name": "stdout",
     "output_type": "stream",
     "text": [
      "Other\n"
     ]
    }
   ],
   "source": [
    "Address = \"North Karachi - Sector 15-A/4, North Karachi - Sector 15A, North Karachi, Karachi, Sindh\"\n",
    "Areas = {\"Area1\":[\"Society1\", \"Society2\", \"Society3\"],\n",
    "         \"Area2\":[\"Society1\", \"Society2\"]}\n",
    "for key, value in Areas.items():\n",
    "    if Address == value:\n",
    "        Address = key\n",
    "    else:\n",
    "        Address = \"Other\"\n",
    "print(Address)"
   ]
  }
 ],
 "metadata": {
  "kernelspec": {
   "display_name": "Python 3 (ipykernel)",
   "language": "python",
   "name": "python3"
  },
  "language_info": {
   "codemirror_mode": {
    "name": "ipython",
    "version": 3
   },
   "file_extension": ".py",
   "mimetype": "text/x-python",
   "name": "python",
   "nbconvert_exporter": "python",
   "pygments_lexer": "ipython3",
   "version": "3.11.3"
  }
 },
 "nbformat": 4,
 "nbformat_minor": 5
}
